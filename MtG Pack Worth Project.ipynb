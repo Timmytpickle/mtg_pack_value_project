{
 "cells": [
  {
   "cell_type": "markdown",
   "id": "a7e4a805",
   "metadata": {},
   "source": [
    "# What Magic the Gathering Set's Draft Booster Pack Is Worth the Most?\n",
    "\n",
    "The goal of this project is to compare and discover which Magic the Gathering set's draft booster pack is worth the most. The three sets I will be comparing are: Modern Horizons 2, Adventures in the Forgotten Realms, and Innistrad: Midnight Hunt. To do this, we will need to do three things; clean the data so it's usuable for our purposes, generate 216,000 packs from each set to have enough data points to have a credible conclusion, and calculate the prices of each generated pack. Then we'll plot them in a nice box and whisker plot to display our findings."
   ]
  },
  {
   "cell_type": "code",
   "execution_count": 1,
   "id": "6f9a9001",
   "metadata": {},
   "outputs": [],
   "source": [
    "import json\n",
    "import pandas as pd\n",
    "import random\n",
    "import matplotlib.pyplot as plt\n",
    "%matplotlib inline"
   ]
  },
  {
   "cell_type": "markdown",
   "id": "e36999d1",
   "metadata": {},
   "source": [
    "First we need to import our data. I am utilizing *scryfall.com*'s bulk data download option. Currently, I have a JSON file containing every card object on Scryfall in every language. Something that's important to know is that Magic the Gathering card prices are very volatile. Card prices are updated every 12 hours and become stale after just 24. This data is from *04-07-22*, and is severely outdated."
   ]
  },
  {
   "cell_type": "code",
   "execution_count": 3,
   "id": "4dd8abdb",
   "metadata": {},
   "outputs": [],
   "source": [
    "# Load the dataframe\n",
    "with open('card_data.json') as df:\n",
    "    data = json.load(df)"
   ]
  },
  {
   "cell_type": "markdown",
   "id": "6b1bd56a",
   "metadata": {},
   "source": [
    "Now we have a list of dictionaries where each dictionary is a single card. While I won't go into the specifics of how the dataframe is compiled, as there are a lot of keys, more information can be found at https://scryfall.com/docs/api."
   ]
  },
  {
   "cell_type": "markdown",
   "id": "58a07af4",
   "metadata": {},
   "source": [
    "## Cleaning the Data"
   ]
  },
  {
   "cell_type": "markdown",
   "id": "c1a6a105",
   "metadata": {},
   "source": [
    "First we compile every card from a specific set into a list."
   ]
  },
  {
   "cell_type": "code",
   "execution_count": 4,
   "id": "5a32b073",
   "metadata": {},
   "outputs": [],
   "source": [
    "# Compile cards into a list by given set name and other parameters\n",
    "def make_set_list(set_name):\n",
    "    set_list = []\n",
    "    for card in data:\n",
    "        if card[\"set\"] == set_name and card[\"booster\"] == True and card[\"lang\"] == \"en\" and card[\"border_color\"] != \"borderless\":\n",
    "            set_list.append(card)\n",
    "            \n",
    "    return set_list"
   ]
  },
  {
   "cell_type": "code",
   "execution_count": 5,
   "id": "e97a90f7",
   "metadata": {},
   "outputs": [
    {
     "name": "stdout",
     "output_type": "stream",
     "text": [
      "{'object': 'card', 'id': '0013a9c4-77a1-418d-85c2-bd68b65cd3d4', 'oracle_id': '335b5302-2272-405a-b2b8-3943b3df335f', 'multiverse_ids': [522268], 'mtgo_id': 90761, 'tcgplayer_id': 239404, 'cardmarket_id': 565719, 'name': 'Dakkon, Shadow Slayer', 'lang': 'en', 'released_at': '2021-06-18', 'uri': 'https://api.scryfall.com/cards/0013a9c4-77a1-418d-85c2-bd68b65cd3d4', 'scryfall_uri': 'https://scryfall.com/card/mh2/192/dakkon-shadow-slayer?utm_source=api', 'layout': 'normal', 'highres_image': True, 'image_status': 'highres_scan', 'image_uris': {'small': 'https://c1.scryfall.com/file/scryfall-cards/small/front/0/0/0013a9c4-77a1-418d-85c2-bd68b65cd3d4.jpg?1626098233', 'normal': 'https://c1.scryfall.com/file/scryfall-cards/normal/front/0/0/0013a9c4-77a1-418d-85c2-bd68b65cd3d4.jpg?1626098233', 'large': 'https://c1.scryfall.com/file/scryfall-cards/large/front/0/0/0013a9c4-77a1-418d-85c2-bd68b65cd3d4.jpg?1626098233', 'png': 'https://c1.scryfall.com/file/scryfall-cards/png/front/0/0/0013a9c4-77a1-418d-85c2-bd68b65cd3d4.png?1626098233', 'art_crop': 'https://c1.scryfall.com/file/scryfall-cards/art_crop/front/0/0/0013a9c4-77a1-418d-85c2-bd68b65cd3d4.jpg?1626098233', 'border_crop': 'https://c1.scryfall.com/file/scryfall-cards/border_crop/front/0/0/0013a9c4-77a1-418d-85c2-bd68b65cd3d4.jpg?1626098233'}, 'mana_cost': '{W}{U}{B}', 'cmc': 3.0, 'type_line': 'Legendary Planeswalker — Dakkon', 'oracle_text': 'Dakkon, Shadow Slayer enters the battlefield with a number of loyalty counters on him equal to the number of lands you control.\\n+1: Surveil 2.\\n−3: Exile target creature.\\n−6: You may put an artifact card from your hand or graveyard onto the battlefield.', 'loyalty': '0', 'colors': ['B', 'U', 'W'], 'color_identity': ['B', 'U', 'W'], 'keywords': ['Surveil'], 'legalities': {'standard': 'not_legal', 'future': 'not_legal', 'historic': 'not_legal', 'gladiator': 'not_legal', 'pioneer': 'not_legal', 'modern': 'legal', 'legacy': 'legal', 'pauper': 'not_legal', 'vintage': 'legal', 'penny': 'not_legal', 'commander': 'legal', 'brawl': 'not_legal', 'historicbrawl': 'not_legal', 'alchemy': 'not_legal', 'paupercommander': 'not_legal', 'duel': 'legal', 'oldschool': 'not_legal', 'premodern': 'not_legal'}, 'games': ['paper', 'mtgo'], 'reserved': False, 'foil': True, 'nonfoil': True, 'finishes': ['nonfoil', 'foil'], 'oversized': False, 'promo': False, 'reprint': False, 'variation': False, 'set_id': 'c1c7eb8c-f205-40ab-a609-767cb296544e', 'set': 'mh2', 'set_name': 'Modern Horizons 2', 'set_type': 'draft_innovation', 'set_uri': 'https://api.scryfall.com/sets/c1c7eb8c-f205-40ab-a609-767cb296544e', 'set_search_uri': 'https://api.scryfall.com/cards/search?order=set&q=e%3Amh2&unique=prints', 'scryfall_set_uri': 'https://scryfall.com/sets/mh2?utm_source=api', 'rulings_uri': 'https://api.scryfall.com/cards/0013a9c4-77a1-418d-85c2-bd68b65cd3d4/rulings', 'prints_search_uri': 'https://api.scryfall.com/cards/search?order=released&q=oracleid%3A335b5302-2272-405a-b2b8-3943b3df335f&unique=prints', 'collector_number': '192', 'digital': False, 'rarity': 'mythic', 'card_back_id': '0aeebaf5-8c7d-4636-9e82-8c27447861f7', 'artist': 'Richard Kane Ferguson', 'artist_ids': ['191620ed-2361-444e-96a6-1fe7ce32ef3b'], 'illustration_id': 'd4e99204-97a5-4f41-87c9-8bfa11b16a5c', 'border_color': 'black', 'frame': '2015', 'security_stamp': 'oval', 'full_art': False, 'textless': False, 'booster': True, 'story_spotlight': False, 'edhrec_rank': 4657, 'preview': {'source': 'Wizards of the Coast', 'source_uri': 'https://www.twitch.tv/videos/1029499176', 'previewed_at': '2021-05-20'}, 'prices': {'usd': '1.01', 'usd_foil': '2.52', 'usd_etched': None, 'eur': '0.96', 'eur_foil': '2.99', 'tix': '0.22'}, 'related_uris': {'gatherer': 'https://gatherer.wizards.com/Pages/Card/Details.aspx?multiverseid=522268', 'tcgplayer_infinite_articles': 'https://infinite.tcgplayer.com/search?contentMode=article&game=magic&partner=scryfall&q=Dakkon%2C+Shadow+Slayer&utm_campaign=affiliate&utm_medium=api&utm_source=scryfall', 'tcgplayer_infinite_decks': 'https://infinite.tcgplayer.com/search?contentMode=deck&game=magic&partner=scryfall&q=Dakkon%2C+Shadow+Slayer&utm_campaign=affiliate&utm_medium=api&utm_source=scryfall', 'edhrec': 'https://edhrec.com/route/?cc=Dakkon%2C+Shadow+Slayer', 'mtgtop8': 'https://mtgtop8.com/search?MD_check=1&SB_check=1&cards=Dakkon%2C+Shadow+Slayer'}}\n"
     ]
    }
   ],
   "source": [
    "set_list = make_set_list(\"mh2\")\n",
    "print(set_list[0])"
   ]
  },
  {
   "cell_type": "markdown",
   "id": "f553292e",
   "metadata": {},
   "source": [
    "A lot of the descriptors here are unneeded for what we're trying to accomplish. What we'll do is recreate each card, only using the info we need."
   ]
  },
  {
   "cell_type": "code",
   "execution_count": 40,
   "id": "307a1eac",
   "metadata": {},
   "outputs": [],
   "source": [
    "# Selects the important info we need from the cards and puts them back into a list\n",
    "def clean_set(set_list):\n",
    "    clean_set_list = []\n",
    "    clean_dict = {}\n",
    "    for card in set_list:\n",
    "        clean_dict[\"name\"] = card[\"name\"]\n",
    "        \n",
    "        clean_dict[\"set\"] = card[\"set\"]\n",
    "    \n",
    "        clean_dict[\"rarity\"] = card[\"rarity\"]\n",
    "            \n",
    "        clean_dict[\"usd\"] = card[\"prices\"][\"usd\"]\n",
    "        \n",
    "        clean_dict[\"usd_foil\"] = card[\"prices\"][\"usd_foil\"]\n",
    "            \n",
    "        clean_dict[\"id\"] = card[\"id\"]\n",
    "        \n",
    "        clean_dict[\"type\"] = card[\"type_line\"]\n",
    "        \n",
    "        clean_dict[\"foil_bool\"] = False\n",
    "        \n",
    "        clean_dict[\"foil\"] = card[\"foil\"]\n",
    "            \n",
    "        clean_set_list.append(clean_dict)\n",
    "        clean_dict = {}\n",
    "    \n",
    "    return clean_set_list"
   ]
  },
  {
   "cell_type": "markdown",
   "id": "f5480605",
   "metadata": {},
   "source": [
    "Now that our cards are cleaned, we can start generating packs. But what is inside a Magic the Gathering pack? What kind of pack are you generating? How many packs is too many?\n",
    "\n",
    "The last two questions are simple to answer, but the first is a little trickier.\n",
    "Let's start with the second question.\n",
    "\n",
    "For this project, I will be generating draft booster packs.\n",
    "\n",
    "* ?\n",
    "* Draft Booster Pack\n",
    "* ?\n",
    "\n",
    "The third question is super simple.\n",
    "\n",
    "* ?\n",
    "* Draft Booster Pack\n",
    "* Never\n",
    "\n",
    "For the first question, we need to do some research. As it turns out, every set has different requirements for their packs. This means we can't write one function for creating a pack.\n",
    "\n",
    "* Pending\n",
    "* Draft Booster Pack\n",
    "* Never"
   ]
  },
  {
   "cell_type": "markdown",
   "id": "cd6bc860",
   "metadata": {},
   "source": [
    "## Making Packs"
   ]
  },
  {
   "cell_type": "markdown",
   "id": "bd7e8b58",
   "metadata": {},
   "source": [
    "Starting with Modern Horizons 2, I found the requirements [here](https://magic.wizards.com/en/articles/archive/feature/collecting-modern-horizons-2-2021-05-21).\n",
    "\n",
    "* 10 Commons\n",
    "* 3 Uncommons\n",
    "* 1 Rare or Mythic Rare\n",
    "* 1 New to modern reprint (A special list of cards that could fit in this slot)\n",
    "* (1 in 3 chance of any card being foil)"
   ]
  },
  {
   "cell_type": "code",
   "execution_count": 7,
   "id": "eed4e04b",
   "metadata": {
    "scrolled": false
   },
   "outputs": [],
   "source": [
    "# Generate a list of cards you would find in a Modern Horizons 2 pack\n",
    "def make_mh2_pack(cleaned_set):\n",
    "    pack = []\n",
    "    commons = []\n",
    "    uncommons = []\n",
    "    rares = []\n",
    "    mythics = []\n",
    "    # Card names that are specific to the set\n",
    "    new_to_modern = [\"Zuran Orb\", \"Yavimaya Elder\", \"Wonder\", \"Vindicate\", \"Upheaval\", \"Titania, Protector of Argoth\", \"Sterling Grove\", \"Squirrel Mob\", \"Soul Snare\", \"Solitary Confinement\", \"Skirge Familiar\", \"Shardless Agent\", \"Seal of Removal\", \"Seal of Cleansing\", \"Sea Drake\", \"Sanctum Prelate\", \"Riptide Laboratory\", \"Quirion Ranger\", \"Patriarch's Bidding\", \"Patchwork Gnomes\", \"Nevinyrral's Disk\", \"Mogg Salvage\", \"Mishra's Factory\", \"Mirari's Wake\", \"Millikin\", \"Karmic Guide\", \"Imperial Recruiter\", \"Hunting Pack\", \"Greed\", \"Gorilla Shaman\", \"Goblin Bombardment\", \"Flame Rift\", \"Fire // Ice\", \"Extruder\", \"Enchantress's Presence\", \"Cursed Totem\", \"Counterspell\", \"Chance Encounter\", \"Chainer, Nightmare Adept\", \"Cabal Coffers\", \"Braids, Cabal Minion\", \"Bone Shredder\", \"Angelic Curator\"]\n",
    "\n",
    "    pack_new_to_moderns = []\n",
    "    # Sort cards   \n",
    "    for card in cleaned_set:\n",
    "        if card[\"name\"] in new_to_modern:\n",
    "            pack_new_to_moderns.append(card)\n",
    "        elif card[\"rarity\"] == \"common\" and \"Basic\" not in card[\"type\"].split(\" \"):\n",
    "            commons.append(card)   \n",
    "        elif card[\"rarity\"] == \"uncommon\":\n",
    "            uncommons.append(card)    \n",
    "        elif card[\"rarity\"] == \"rare\":\n",
    "            rares.append(card)            \n",
    "        elif card[\"rarity\"] == \"mythic\":\n",
    "            mythics.append(card)\n",
    "                 \n",
    "    # 10 commons\n",
    "    for i in range(10):\n",
    "        pack.append(random.choice(commons))\n",
    "        \n",
    "    # 3 uncommons\n",
    "    for i in range(3):\n",
    "        pack.append(random.choice(uncommons))\n",
    "        \n",
    "    # 1 rare/mythic (1 in 7.4 mythic)\n",
    "    for i in range(1):\n",
    "        if (random.random()*100) <= 13.51:\n",
    "            pack.append(random.choice(mythics))\n",
    "        else:\n",
    "            pack.append(random.choice(rares))\n",
    "    \n",
    "    # 1 new to modern reprint\n",
    "    for i in range(1):\n",
    "        pack.append(random.choice(pack_new_to_moderns))\n",
    "    \n",
    "    # Add foils\n",
    "    if random.random()*100 < 33.34:\n",
    "        index = random.randint(0, 14)\n",
    "        new_foil = pack[index].copy()\n",
    "        new_foil[\"foil_bool\"] = True\n",
    "        pack[index] = new_foil\n",
    "    \n",
    "    return pack"
   ]
  },
  {
   "cell_type": "markdown",
   "id": "e8bbe863",
   "metadata": {},
   "source": [
    "Next is [Adventures In the Forgotten Realms](https://magic.wizards.com/en/articles/archive/feature/adventures-forgotten-realms-product-overview-2021-06-29).\n",
    "\n",
    "* 10 Commons\n",
    "* 3 Uncommons\n",
    "* 1 Rare or Mythic Rare\n",
    "* 1 Basic Land\n",
    "* (1 in 3 chance of any common being foil)"
   ]
  },
  {
   "cell_type": "code",
   "execution_count": 8,
   "id": "9e43ce79",
   "metadata": {
    "scrolled": false
   },
   "outputs": [],
   "source": [
    "# Generate a list of cards you would find in an Adventures In the Forgotten Realms pack\n",
    "def make_afr_pack(cleaned_set):\n",
    "    pack = []\n",
    "    commons = []\n",
    "    uncommons = []\n",
    "    rares = []\n",
    "    mythics = []\n",
    "    basics = []\n",
    "    \n",
    "    # Sort cards\n",
    "    for card in cleaned_set:\n",
    "        if card[\"rarity\"] == \"common\" and \"Basic\" not in card[\"type\"].split(\" \"):\n",
    "            commons.append(card)   \n",
    "        elif card[\"rarity\"] == \"uncommon\":\n",
    "            uncommons.append(card)    \n",
    "        elif card[\"rarity\"] == \"rare\":\n",
    "            rares.append(card)            \n",
    "        elif card[\"rarity\"] == \"mythic\":\n",
    "            mythics.append(card)\n",
    "        \n",
    "        if \"Basic\" in card[\"type\"].split(\" \"):\n",
    "            basics.append(card)\n",
    "        \n",
    "    # 10 commons\n",
    "    for i in range(10):\n",
    "        pack.append(random.choice(commons))\n",
    "        \n",
    "    # 3 uncommons    \n",
    "    for i in range(3):\n",
    "        pack.append(random.choice(uncommons))\n",
    "        \n",
    "    # 1 rare/mythic (1 in 7.4 mythic)    \n",
    "    for i in range(1):\n",
    "        if (random.random()*100) <= 13.51:\n",
    "            pack.append(random.choice(mythics))\n",
    "        else:\n",
    "            pack.append(random.choice(rares))\n",
    "            \n",
    "    # 1 basic land\n",
    "    for i in range(1):\n",
    "        pack.append(random.choice(basics))\n",
    "        \n",
    "    # Add foils\n",
    "    pack_commons = []\n",
    "    for card in pack:\n",
    "        if card[\"rarity\"] == \"common\":\n",
    "            pack_commons.append(card)\n",
    "            if random.random()*100 < 33.34:\n",
    "                foil_common = random.choice(pack_commons)\n",
    "                \n",
    "                for a_card in pack:\n",
    "                    if a_card[\"name\"] == foil_common[\"name\"]:\n",
    "                        a_card[\"foil_bool\"] = True\n",
    "   \n",
    "    return pack"
   ]
  },
  {
   "cell_type": "markdown",
   "id": "20a2aadf",
   "metadata": {},
   "source": [
    "Lastly, [Innistrad: Midnight Hunt](https://magic.wizards.com/en/articles/archive/feature/boosters-and-products-innistrad-midnight-hunt-2021-09-02).\n",
    "\n",
    "* 10 Commons\n",
    "* 3 Uncommons\n",
    "* 1 Rare or Mythic Rare\n",
    "* 1 Basic Land\n",
    "* (1 in 3 chance of any card being foil)"
   ]
  },
  {
   "cell_type": "code",
   "execution_count": 9,
   "id": "a93d95b6",
   "metadata": {
    "scrolled": false
   },
   "outputs": [],
   "source": [
    "# Generate a list of cards you would find in an Innistrad: Midnight Hunt pack\n",
    "def make_mid_pack(cleaned_set):\n",
    "    pack = []\n",
    "    commons = []\n",
    "    uncommons = []\n",
    "    rares = []\n",
    "    mythics = []\n",
    "    basics = []\n",
    "    \n",
    "    rarities = [commons, uncommons, rares, mythics]\n",
    "    \n",
    "    # Sort cards\n",
    "    for card in cleaned_set:\n",
    "        if card[\"rarity\"] == \"common\" and \"Basic\" not in card[\"type\"].split(\" \"):\n",
    "            commons.append(card)   \n",
    "        elif card[\"rarity\"] == \"uncommon\":\n",
    "            uncommons.append(card)    \n",
    "        elif card[\"rarity\"] == \"rare\":\n",
    "            rares.append(card)            \n",
    "        elif card[\"rarity\"] == \"mythic\":\n",
    "            mythics.append(card)\n",
    "        \n",
    "        if \"Basic\" in card[\"type\"].split(\" \"):\n",
    "            basics.append(card)\n",
    "    \n",
    "    # 10 commons\n",
    "    for i in range(10):\n",
    "        pack.append(random.choice(commons))\n",
    "        \n",
    "    # 3 uncommons    \n",
    "    for i in range(3):\n",
    "        pack.append(random.choice(uncommons))\n",
    "        \n",
    "    # 1 rare/mythic (1 in 7.4 mythic)    \n",
    "    for i in range(1):\n",
    "        if (random.random()*100) <= 13.51:\n",
    "            pack.append(random.choice(mythics))\n",
    "        else:\n",
    "            pack.append(random.choice(rares))\n",
    "            \n",
    "    # 1 basic land\n",
    "    for i in range(1):\n",
    "        pack.append(random.choice(basics))\n",
    "        \n",
    "    # Add foils\n",
    "    if random.random()*100 < 33.34:\n",
    "        new_foil = random.choice(random.choice(rarities))\n",
    "        if new_foil[\"foil\"] == True:\n",
    "            new_foil[\"foil_bool\"] = True\n",
    "        \n",
    "    \n",
    "    return pack"
   ]
  },
  {
   "cell_type": "markdown",
   "id": "e57a7062",
   "metadata": {},
   "source": [
    "Next, we'll generate 216,000 packs. This number will be significant later."
   ]
  },
  {
   "cell_type": "code",
   "execution_count": 10,
   "id": "d8ad60d7",
   "metadata": {
    "scrolled": true
   },
   "outputs": [],
   "source": [
    "# Generate 216000 packs of the given set\n",
    "def make_pack_list(set_clean):\n",
    "    list_packs = []\n",
    "    if set_clean[0][\"set\"] == \"mh2\":\n",
    "        for i in range(216000):\n",
    "            pack = make_mh2_pack(set_clean)\n",
    "            \n",
    "            list_packs.append(pack)\n",
    "            \n",
    "    if set_clean[0][\"set\"] == \"afr\":\n",
    "        for i in range(216000):\n",
    "            pack = make_afr_pack(set_clean)\n",
    "            \n",
    "            list_packs.append(pack)\n",
    "            \n",
    "    if set_clean[0][\"set\"] == \"mid\":\n",
    "        for i in range(216000):\n",
    "            pack = make_mid_pack(set_clean)\n",
    "    \n",
    "            list_packs.append(pack)\n",
    "        \n",
    "    return list_packs"
   ]
  },
  {
   "cell_type": "markdown",
   "id": "0ffcccf6",
   "metadata": {},
   "source": [
    "This function consolodates everything we've done into one easy step."
   ]
  },
  {
   "cell_type": "code",
   "execution_count": 11,
   "id": "1fc4be0d",
   "metadata": {
    "scrolled": true
   },
   "outputs": [],
   "source": [
    "# Makes, cleans, and generates a list of 216000 packs of the given set\n",
    "def get_packs(set_name):\n",
    "    packs = make_pack_list(clean_set(make_set_list(set_name)))\n",
    "    \n",
    "    return packs"
   ]
  },
  {
   "cell_type": "markdown",
   "id": "6366aa9a",
   "metadata": {},
   "source": [
    "Generating. . ."
   ]
  },
  {
   "cell_type": "code",
   "execution_count": 12,
   "id": "25639f69",
   "metadata": {
    "scrolled": true
   },
   "outputs": [],
   "source": [
    "mh2_packs = get_packs(\"mh2\")"
   ]
  },
  {
   "cell_type": "code",
   "execution_count": 13,
   "id": "7c2583c1",
   "metadata": {},
   "outputs": [],
   "source": [
    "afr_packs = get_packs(\"afr\")"
   ]
  },
  {
   "cell_type": "code",
   "execution_count": 14,
   "id": "95ec0f55",
   "metadata": {},
   "outputs": [],
   "source": [
    "mid_packs = get_packs(\"mid\")"
   ]
  },
  {
   "cell_type": "markdown",
   "id": "008c3121",
   "metadata": {},
   "source": [
    "## Pricing\n",
    "\n",
    "Now that we've generated the packs, it's time to price them. Making sure to take into account foil pricing, we'll use a short function to accumulate a single price for a given pack."
   ]
  },
  {
   "cell_type": "code",
   "execution_count": 15,
   "id": "b077165b",
   "metadata": {},
   "outputs": [],
   "source": [
    "# Prices a given pack\n",
    "def get_pack_price(pack):\n",
    "    pack_price = 0.0\n",
    "    for card in pack:\n",
    "        # Checks for foil\n",
    "        if card[\"foil_bool\"] == True:\n",
    "            if card[\"usd_foil\"] != None:\n",
    "                pack_price += float(card[\"usd_foil\"])\n",
    "        else:\n",
    "            pack_price += float(card[\"usd\"])\n",
    "        \n",
    "    return pack_price"
   ]
  },
  {
   "cell_type": "markdown",
   "id": "c33d1090",
   "metadata": {},
   "source": [
    "Another function to make pricing easier."
   ]
  },
  {
   "cell_type": "code",
   "execution_count": 16,
   "id": "e852153e",
   "metadata": {},
   "outputs": [],
   "source": [
    "# Prices any number of packs\n",
    "def price_set_packs(set_packs):\n",
    "    set_packs_prices = []\n",
    "    \n",
    "    for pack in set_packs:\n",
    "        pack_price = get_pack_price(pack)\n",
    "    \n",
    "        set_packs_prices.append(pack_price)\n",
    "\n",
    "    return set_packs_prices"
   ]
  },
  {
   "cell_type": "markdown",
   "id": "daf60990",
   "metadata": {},
   "source": [
    "Pricing. . ."
   ]
  },
  {
   "cell_type": "code",
   "execution_count": 17,
   "id": "5282de18",
   "metadata": {},
   "outputs": [],
   "source": [
    "mh2_prices = price_set_packs(mh2_packs)\n",
    "afr_prices = price_set_packs(afr_packs)\n",
    "mid_prices = price_set_packs(mid_packs)"
   ]
  },
  {
   "cell_type": "code",
   "execution_count": 39,
   "id": "227e285c",
   "metadata": {},
   "outputs": [
    {
     "name": "stdout",
     "output_type": "stream",
     "text": [
      "6.963681388888814\n",
      "3.38224407407412\n",
      "4.213776759259242\n"
     ]
    }
   ],
   "source": [
    "print(sum(mh2_prices)/len(mh2_prices))\n",
    "print(sum(afr_prices)/len(afr_prices))\n",
    "print(sum(mid_prices)/len(mid_prices))"
   ]
  },
  {
   "cell_type": "markdown",
   "id": "9b7a7868",
   "metadata": {},
   "source": [
    "And now a visualization."
   ]
  },
  {
   "cell_type": "code",
   "execution_count": 22,
   "id": "1742ccb6",
   "metadata": {
    "scrolled": false
   },
   "outputs": [
    {
     "data": {
      "image/png": "[encoded data removed]",
      "text/plain": [
       "<Figure size 432x288 with 1 Axes>"
      ]
     },
     "metadata": {
      "needs_background": "light"
     },
     "output_type": "display_data"
    }
   ],
   "source": [
    "# Box and whisker plot of pack prices\n",
    "plt.boxplot([mh2_prices, afr_prices, mid_prices], whis=(0,100), labels=[\"mh2\", \"afr\", \"mid\"])\n",
    "plt.yticks(ticks=[0, 20, 40, 60, 80, 100, 120, 140])\n",
    "plt.show()"
   ]
  },
  {
   "cell_type": "markdown",
   "id": "c8256075",
   "metadata": {},
   "source": [
    "The price to buy a pack is, in order:\n",
    "* 7.59 usd\n",
    "* 2.97 usd\n",
    "* 3.39 usd\n",
    "\n",
    "Average selling price:\n",
    "* 6.96 usd\n",
    "* 3.38 usd\n",
    "* 4.21 usd\n",
    "\n",
    "Clearly, with those averages, reselling is not the way to go. But, you see an opportunity with Midnight Hunt, so you keep trying."
   ]
  },
  {
   "cell_type": "markdown",
   "id": "adcb4bd0",
   "metadata": {},
   "source": [
    "## Real Pack Prices"
   ]
  },
  {
   "cell_type": "markdown",
   "id": "1f336c4d",
   "metadata": {},
   "source": [
    "Realistically, you are not going to sell every single card you pull. The more value the card has, the more likely it is to sell. The opposite is true for low value cards.\n",
    "\n",
    "You are also likely to have to sell off of a website that speciallizes in selling trading cards. Such a website is [TCGPlayer](https://www.tcgplayer.com), which has a 12.75% overhead fee that we will acount for.\n",
    "\n",
    "Taking these factors into account, we'll price the cards again and see what happens to your profits."
   ]
  },
  {
   "cell_type": "code",
   "execution_count": 24,
   "id": "3be16a24",
   "metadata": {},
   "outputs": [],
   "source": [
    "# Prices a given pack realistically\n",
    "def get_real_pack_price(pack):\n",
    "    pack_price = 0.0\n",
    "    \n",
    "    for card in pack:\n",
    "        card_price = float(card[\"usd\"])\n",
    "        if card[\"foil_bool\"] == True and card[\"usd_foil\"] != None:\n",
    "            card_price = float(card[\"usd_foil\"])\n",
    "            \n",
    "        # Reduces the \"sell percentage\" based on value\n",
    "        if card_price != None:\n",
    "            if card_price <= 4.00:\n",
    "                pack_price += card_price/4\n",
    "            elif card_price <= 8.00:\n",
    "                pack_price += card_price/2\n",
    "            else:\n",
    "                pack_price += card_price\n",
    "    # 12.75% overhead plus 30¢ when you sell\n",
    "    pack_price = pack_price - ((pack_price*0.1275) + 0.30)\n",
    "    \n",
    "    if pack_price < 0.0:\n",
    "        pack_price = 0.0\n",
    "        \n",
    "    return pack_price"
   ]
  },
  {
   "cell_type": "code",
   "execution_count": 25,
   "id": "a94b5ba3",
   "metadata": {},
   "outputs": [],
   "source": [
    "# Prices any number of packs realistically\n",
    "def real_price_set_packs(set_packs):\n",
    "    set_packs_prices = []\n",
    "    \n",
    "    for pack in set_packs:\n",
    "        pack_price = get_real_pack_price(pack)\n",
    "    \n",
    "        set_packs_prices.append(pack_price)\n",
    "\n",
    "    return set_packs_prices"
   ]
  },
  {
   "cell_type": "code",
   "execution_count": 26,
   "id": "83e0b038",
   "metadata": {},
   "outputs": [],
   "source": [
    "real_mh2_prices = real_price_set_packs(mh2_packs)\n",
    "real_afr_prices = real_price_set_packs(afr_packs)\n",
    "real_mid_prices = real_price_set_packs(mid_packs)"
   ]
  },
  {
   "cell_type": "code",
   "execution_count": 41,
   "id": "e3af277d",
   "metadata": {},
   "outputs": [
    {
     "name": "stdout",
     "output_type": "stream",
     "text": [
      "4.358696355266211\n",
      "0.7598425533275114\n",
      "1.299309258969858\n"
     ]
    }
   ],
   "source": [
    "# Print average sell price\n",
    "print(sum(real_mh2_prices)/len(real_mh2_prices))\n",
    "print(sum(real_afr_prices)/len(real_afr_prices))\n",
    "print(sum(real_mid_prices)/len(real_mid_prices))"
   ]
  },
  {
   "cell_type": "code",
   "execution_count": 27,
   "id": "ddfa0b29",
   "metadata": {
    "scrolled": true
   },
   "outputs": [
    {
     "data": {
      "image/png": "[encoded data removed]",
      "text/plain": [
       "<Figure size 432x288 with 1 Axes>"
      ]
     },
     "metadata": {
      "needs_background": "light"
     },
     "output_type": "display_data"
    }
   ],
   "source": [
    "# Box and whisker plot of realistic pack prices\n",
    "plt.boxplot([real_mh2_prices, real_afr_prices, real_mid_prices], whis=(0,100), labels=[\"real_mh2\", \"real_afr\", \"real_mid\"])\n",
    "plt.yticks(ticks=[0, 20, 40, 60, 80, 100, 120])\n",
    "plt.show()"
   ]
  },
  {
   "cell_type": "markdown",
   "id": "1d4cb156",
   "metadata": {},
   "source": [
    "This is no longer promising. With averages this low, you should give up hope."
   ]
  },
  {
   "cell_type": "markdown",
   "id": "1f79e7c6",
   "metadata": {},
   "source": [
    "## Real Case Prices"
   ]
  },
  {
   "cell_type": "markdown",
   "id": "47af3980",
   "metadata": {},
   "source": [
    "Another alternative is buying and reselling cases. A case is made up of 6 boxes, which are each made up of 36 packs, which are each made up of 15 cards, which are each made up of\n",
    "\n",
    "Needless to say, it's a lot of cards, and a lot of potential selling value."
   ]
  },
  {
   "cell_type": "markdown",
   "id": "4585a5cb",
   "metadata": {},
   "source": [
    "I'm defining a case as a dictionary where each key is the name of a card, and the value assigned to that key is a list of each card with that same name.\n",
    "\n",
    "This next function will create 1000 cases, incrementally using the previously made packs."
   ]
  },
  {
   "cell_type": "code",
   "execution_count": 28,
   "id": "831e2578",
   "metadata": {},
   "outputs": [],
   "source": [
    "# Generates 1000 cases from previously made packs\n",
    "def make_case_list(set_packs):\n",
    "    list_cases = []\n",
    "    \n",
    "    cases = []\n",
    "    \n",
    "    for i in range(0,216000,216):\n",
    "        cases.append(set_packs[i:i+216])\n",
    "        \n",
    "    for packs in cases:\n",
    "        case = {}\n",
    "        for pack in packs:\n",
    "            for card in pack:\n",
    "                if card[\"name\"] not in case:\n",
    "                    # Makes the name of the card a key in the dictionary case\n",
    "                    # Assigns the value to an empty list\n",
    "                    case[card[\"name\"]] = []\n",
    "                    # Appends the card to that list\n",
    "                    case[card[\"name\"]].append(card)\n",
    "                elif card[\"name\"] in case:\n",
    "                    case[card[\"name\"]].append(card)\n",
    "\n",
    "        list_cases.append(case)\n",
    "        \n",
    "    return list_cases"
   ]
  },
  {
   "cell_type": "markdown",
   "id": "9a29f57e",
   "metadata": {},
   "source": [
    "Pricing a case is different than a pack, because of the duplicate clause (I made that up).\n",
    "\n",
    "Essentially, if you have 4 of the same card, you are more likely to sell all of them."
   ]
  },
  {
   "cell_type": "code",
   "execution_count": 29,
   "id": "512e17e7",
   "metadata": {},
   "outputs": [],
   "source": [
    "# Prices a given case realistically\n",
    "def get_case_price(case):\n",
    "    case_price = 0.0\n",
    "    \n",
    "    for name in case.keys():\n",
    "        card_acumulated_price = 0.0\n",
    "        for i, card in enumerate(case[name]):\n",
    "            \n",
    "            # Checks for foil\n",
    "            card_price = float(card[\"usd\"])\n",
    "            if card[\"foil_bool\"] == True and card[\"usd_foil\"] != None:\n",
    "                card_price = float(card[\"usd_foil\"])\n",
    "            \n",
    "            # If number of cards is divisible by 4,\n",
    "            # Ignore \"sell percentage\" reduction\n",
    "            card_acumulated_price += card_price\n",
    "            if (i + 1) % 4 == 0:\n",
    "                case_price += card_acumulated_price\n",
    "                card_acumulated_price = 0.0\n",
    "        # Reduce the \"sell percentage\" of remainder cards\n",
    "        if card_acumulated_price <= 4.00:\n",
    "            case_price += card_acumulated_price/4\n",
    "        elif card_acumulated_price <= 8.00:\n",
    "            case_price += card_acumulated_price/2\n",
    "        else:\n",
    "            case_price += card_acumulated_price\n",
    "    \n",
    "    # 12.75% overhead when you sell \n",
    "    case_price = case_price - (case_price*0.1275)\n",
    "    \n",
    "    if case_price < 0.0:\n",
    "        case_price = 0.0\n",
    "        \n",
    "    return case_price"
   ]
  },
  {
   "cell_type": "code",
   "execution_count": 30,
   "id": "89189f38",
   "metadata": {},
   "outputs": [],
   "source": [
    "# Prices any number of cases realistically\n",
    "def price_set_cases(set_cases):\n",
    "    set_cases_prices = []\n",
    "    \n",
    "    for case in set_cases:\n",
    "        case_price = get_case_price(case)\n",
    "    \n",
    "        set_cases_prices.append(case_price)\n",
    "\n",
    "    return set_cases_prices"
   ]
  },
  {
   "cell_type": "markdown",
   "id": "acd4168d",
   "metadata": {},
   "source": [
    "We make the cases."
   ]
  },
  {
   "cell_type": "code",
   "execution_count": 31,
   "id": "100bb9a7",
   "metadata": {},
   "outputs": [],
   "source": [
    "mh2_cases = make_case_list(mh2_packs)"
   ]
  },
  {
   "cell_type": "code",
   "execution_count": 32,
   "id": "f803fc5b",
   "metadata": {},
   "outputs": [],
   "source": [
    "afr_cases = make_case_list(afr_packs)"
   ]
  },
  {
   "cell_type": "code",
   "execution_count": 33,
   "id": "3844b32d",
   "metadata": {},
   "outputs": [],
   "source": [
    "mid_cases = make_case_list(mid_packs)"
   ]
  },
  {
   "cell_type": "markdown",
   "id": "50281b76",
   "metadata": {},
   "source": [
    "And then price them."
   ]
  },
  {
   "cell_type": "code",
   "execution_count": 34,
   "id": "3dfff68e",
   "metadata": {},
   "outputs": [],
   "source": [
    "mh2_case_prices = price_set_cases(mh2_cases)"
   ]
  },
  {
   "cell_type": "code",
   "execution_count": 35,
   "id": "b26cf6f4",
   "metadata": {},
   "outputs": [],
   "source": [
    "afr_case_prices = price_set_cases(afr_cases)"
   ]
  },
  {
   "cell_type": "code",
   "execution_count": 36,
   "id": "dc5bcb00",
   "metadata": {},
   "outputs": [],
   "source": [
    "mid_case_prices = price_set_cases(mid_cases)"
   ]
  },
  {
   "cell_type": "code",
   "execution_count": 37,
   "id": "15e813a6",
   "metadata": {},
   "outputs": [
    {
     "name": "stdout",
     "output_type": "stream",
     "text": [
      "1245.9777344750014\n",
      "557.4867411625003\n",
      "713.7875363187504\n"
     ]
    }
   ],
   "source": [
    "print(sum(mh2_case_prices) / len(mh2_case_prices))\n",
    "print(sum(afr_case_prices) / len(afr_case_prices))\n",
    "print(sum(mid_case_prices) / len(mid_case_prices))"
   ]
  },
  {
   "cell_type": "code",
   "execution_count": 38,
   "id": "04da5c0f",
   "metadata": {
    "scrolled": true
   },
   "outputs": [
    {
     "data": {
      "image/png": "[encoded data removed]",
      "text/plain": [
       "<Figure size 432x288 with 1 Axes>"
      ]
     },
     "metadata": {
      "needs_background": "light"
     },
     "output_type": "display_data"
    }
   ],
   "source": [
    "# Box and whisker plot of realistic case prices\n",
    "plt.boxplot([mh2_case_prices, afr_case_prices, mid_case_prices], whis=(0, 100), labels=[\"mh2_cases\", \"afr_cases\", \"mid_cases\"])\n",
    "plt.yticks(ticks=[0, 100, 200, 400, 600, 800, 1000, 1200, 1400, 1600, 1800])\n",
    "plt.show()"
   ]
  },
  {
   "cell_type": "markdown",
   "id": "ba5399ce",
   "metadata": {},
   "source": [
    "Cases are priced at:\n",
    "\n",
    "* 1248 usd\n",
    "* 610 usd\n",
    "* 532 usd\n",
    "\n",
    "And the average case sell prices are:\n",
    "\n",
    "* 1,246 usd\n",
    "* 557 usd\n",
    "* 714 usd"
   ]
  },
  {
   "cell_type": "markdown",
   "id": "47e62238",
   "metadata": {},
   "source": [
    "This means an Innistrad: Midnight Hunt draft booster case will rake in the most profit. Between these three sets."
   ]
  },
  {
   "cell_type": "markdown",
   "id": "81cc7bd6",
   "metadata": {},
   "source": [
    "# Conclusion"
   ]
  },
  {
   "cell_type": "markdown",
   "id": "3ae205ac",
   "metadata": {},
   "source": [
    "In conclusion, Modern Horizons 2 cases are too hard to come by to resell, nobody's interested in Adventures In the Forgotten Realms along with very little price variability, and Innistrad: Midnight Hunt has a minimum sell price above the cost of purchasing the unopened case.\n",
    "\n",
    "This mildly proves that Midnight Hunt is the best set to buy and resell for the sole purpose of making money."
   ]
  }
 ],
 "metadata": {
  "kernelspec": {
   "display_name": "Python 3",
   "language": "python",
   "name": "python3"
  },
  "language_info": {
   "codemirror_mode": {
    "name": "ipython",
    "version": 3
   },
   "file_extension": ".py",
   "mimetype": "text/x-python",
   "name": "python",
   "nbconvert_exporter": "python",
   "pygments_lexer": "ipython3",
   "version": "3.8.8"
  }
 },
 "nbformat": 4,
 "nbformat_minor": 5
}
